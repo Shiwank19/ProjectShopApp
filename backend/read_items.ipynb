{
  "nbformat": 4,
  "nbformat_minor": 0,
  "metadata": {
    "colab": {
      "name": "read items.ipynb",
      "provenance": []
    },
    "kernelspec": {
      "name": "python3",
      "display_name": "Python 3"
    },
    "language_info": {
      "name": "python"
    }
  },
  "cells": [
    {
      "cell_type": "code",
      "metadata": {
        "id": "q322voa3sIiD"
      },
      "source": [
        "import pandas as pd\n",
        "import numpy as np\n",
        "from random import randint\n",
        "from datetime import datetime, timedelta"
      ],
      "execution_count": 31,
      "outputs": []
    },
    {
      "cell_type": "code",
      "metadata": {
        "id": "H9W3Zafq138P"
      },
      "source": [
        "space_count = 2\n",
        "seen_name = False\n",
        "prod_dict = dict()\n",
        "prod_name, prod_price = None, None\n",
        "with open('items.txt', 'r') as f:\n",
        "  count = 1\n",
        "  for idx, line in enumerate(f.read().split('\\n')):\n",
        "    if space_count == 2:\n",
        "      prod_name = line.split(':')[0]\n",
        "      prod_price = line.split(':')[1].strip()\n",
        "      space_count = 0\n",
        "      seen_name = True\n",
        "    elif seen_name:\n",
        "      seen_name = False\n",
        "      prod_dict[count] = {\n",
        "          'prod': [prod_name],\n",
        "          'price': prod_price,\n",
        "          'desc': line\n",
        "      }\n",
        "      count = count + 1\n",
        "    else:\n",
        "      space_count = space_count + 1"
      ],
      "execution_count": 6,
      "outputs": []
    },
    {
      "cell_type": "code",
      "metadata": {
        "colab": {
          "base_uri": "https://localhost:8080/"
        },
        "id": "QKpIrWvm4Skn",
        "outputId": "fe834e24-2edd-4b64-c83f-a786ae2096e7"
      },
      "source": [
        "prod_dict"
      ],
      "execution_count": 7,
      "outputs": [
        {
          "output_type": "execute_result",
          "data": {
            "text/plain": [
              "{1: {'desc': 'Camera 4500mAH lithium-ion battery (non-removable);Main camera features: Clear, high-resolution photos, Nightscape, Automated AI Photo Enhancer, Portrait mode, and filters.;In-display fingerprint sensor.;Front camera features - Face Unlock, HDR, Screen Flash, face retouching, and filters.;Thickness: 7.9mm, slimmest OnePlus phone since the OnePlus 6T. Weight: 170g',\n",
              "  'price': '24,999',\n",
              "  'prod': ['OnePlus Nord CE 5G']},\n",
              " 2: {'desc': 'Quad Rear Camera (48 MP + 16 MP + 5 MP + 2 MP) | 16 MP Front Camera',\n",
              "  'price': '36,999',\n",
              "  'prod': ['OnePlus 9R 5G']},\n",
              " 3: {'desc': 'Dual Stereo Speakers for immersive audio experience, The display is protected by Corning Gorilla Glass 5, 64MP AI Quad Camera Setup 8MP Ultrawide-FOV 118 degrees 5MP Macro Sensor 2 MP Depth Sensor Slow Motion Support - Up to 960 fps Portrait | Panaroma | Dual Mode | Vlog Mode | Clone Mode | Time Lapse | Long Exposure | Pro Mode | Night Mode | Short Video Mode | Ultra wide-angle distortion correction | Custom Watermark | Document mode | HDR | AI scene detection | Video macro mode | Movie frame | Time burst | Google Lens| AI Watermark, 3.5mm Jack, IR Blaster, Dedicated Micro SD Slot, Z-Axis Linear Vibration Motor, IP 52 Certified, 33W Fast Charger in box, 49% in 30 mins',\n",
              "  'price': '17,999',\n",
              "  'prod': ['Redmi Note 10 Pro']},\n",
              " 4: {'desc': '\\u200eBluetooth v5.1 wireless technology; 802.11 a/b/g/n/ac wifi; Dual band GPS, GLONASS, BeiDou, NavIC; USB 2.0 OTG; IR blaster',\n",
              "  'price': '21,999',\n",
              "  'prod': ['Mi 10i 5G']},\n",
              " 5: {'desc': 'Accelerometer,Fingerprint Sensor,Gyro Sensor,Geomagnetic Sensor,Hall Sensor,Virtual Light Sensing,Virtual Proximity Sensing, Secured by Knox, Samsung M32 5G, Samsung M32 5G, Galaxy M32 5G, Samsung Galaxy M32 5G,Samsung, Galaxy, Samsung Galaxy, Samsung mobile, Samsung mobiles, Samsung smartphone, Samsung mobile phone, Samsung phone, Samsung , Samsung phones, Samsung mobile, Samsung smartphone, Samsung phone,, Simple, Secure payments with Samsung Pay (NFC)',\n",
              "  'price': '20,999',\n",
              "  'prod': ['Samsung Galaxy M32 5G']},\n",
              " 6: {'desc': 'Dual 12MP cameras (Ultra Wide, Wide) with Portrait mode, Night mode, Auto Adjustments, next-generation Smart HDR and 4K video up to 60 fps with extended dynamic range',\n",
              "  'price': '46,999',\n",
              "  'prod': ['Apple iPhone 11']},\n",
              " 7: {'desc': 'It has the helpful stuff you need in a cell phone, with an extra boost of 5G speed. So you can download a movie in seconds, enjoy smooth streaming, and play your favorite games. Pixel 4a with 5G also takes amazing ultrawide photos in any light, keeps your data safe, blocks robocalls, and has an all-day battery that can last up to 48 hours with Extreme Battery Saver.',\n",
              "  'price': '37,330',\n",
              "  'prod': ['Google Pixel 4a 5G']},\n",
              " 8: {'desc': 'Dual Stereo Speakers for immersive audio experience, The display is protected by Corning Gorilla Glass 5, 3.5mm Jack, IR Blaster, Dedicated Micro SD Slot, Z-Axis Linear Vibration Motor, IP 52 Certified, Flagship 108MP Main Camera 8MP Ultrawide-FOV 118 degrees 5MP Macro Sensor 2MP Depth Sensor Slow Motion Support - Up to 960 fps Portrait | Panaroma | Dual Mode | Vlog Mode | Clone Mode | Time Lapse | Long Exposure | Pro Mode | Night Mode | Short Video Mode | Ultra wide-angle distortion correction | Custom Watermark | Document mode | HDR | AI scene detection | Video macro mode | Movie frame | Time burst | Google Lens| AI Watermark, 33W Fast Charger in box, 49% in 30 mins',\n",
              "  'price': '19,999',\n",
              "  'prod': ['Redmi Note 10 Pro Max']},\n",
              " 9: {'desc': '\\u200e120Hz Refresh Rate | 180Hz Touch Sampling Rate | \\u200eTriple Rear Camera (64MP + 8MP + 2MP) | 16MP Front Camera',\n",
              "  'price': '20,990',\n",
              "  'prod': ['iQOO Z3 5G']}}"
            ]
          },
          "metadata": {},
          "execution_count": 7
        }
      ]
    },
    {
      "cell_type": "code",
      "metadata": {
        "colab": {
          "base_uri": "https://localhost:8080/"
        },
        "id": "b58Of6eOuCZS",
        "outputId": "d4435dff-24f6-4a5e-9fd9-8abbc982e9e9"
      },
      "source": [
        "def get_random_items(item_count):\n",
        "  items_set = set()\n",
        "  while len(items_set) != item_count:\n",
        "    item_sno = randint(1, len(prod_dict.keys()))\n",
        "    items_set.add(item_sno)\n",
        "\n",
        "  items_array = list()\n",
        "  for item_sno in items_set:\n",
        "    items_array.append({'sno': item_sno, 'count': randint(1, 3)})\n",
        "  \n",
        "  return items_array\n",
        "\n",
        "def generate_transaction(date, tr_uniq, item_count):\n",
        "  items = get_random_items(item_count)\n",
        "  final_list = list()\n",
        "  for item in items:\n",
        "    final_list.append([item['sno'], item['count'], date, f'TR-{tr_uniq}'])\n",
        "\n",
        "  return final_list\n",
        "\n",
        "\n",
        "def get_dates():\n",
        "  end_dt = datetime.now()\n",
        "  duration_obj = datetime.strptime(str(end_dt.year-1), '%Y')\n",
        "  start_dt = end_dt - timedelta(days=365)\n",
        "  return start_dt, end_dt\n",
        "\n",
        "  \n",
        "def generate_data(start_dt, end_dt):\n",
        "\n",
        "  count = 1\n",
        "  transactions = []\n",
        "  while start_dt < end_dt:\n",
        "    duration = str(randint(1, 23))\n",
        "    duration_obj = datetime.strptime(duration, '%H')\n",
        "\n",
        "    start_dt = start_dt + timedelta(hours=duration_obj.hour, minutes=duration_obj.minute, seconds=duration_obj.second)\n",
        "    #print(f'Start: {start_dt}')\n",
        "    \n",
        "    items = randint(1, 3)\n",
        "    \n",
        "    transaction = generate_transaction(start_dt, count, items)\n",
        "    transactions.extend(transaction)\n",
        "    count = count + 1\n",
        "    #print('==================================')\n",
        "  return transactions\n",
        "\n",
        "\n",
        "start_dt, end_dt = get_dates()\n",
        "#print(start_dt)\n",
        "#print(end_dt)\n",
        "transactions = generate_data(start_dt, end_dt)\n",
        "\n",
        "print(len(transactions))\n",
        "df = pd.DataFrame(transactions, columns=['prod_id', 'qt', 'date', 'tr_id'])"
      ],
      "execution_count": 48,
      "outputs": [
        {
          "output_type": "stream",
          "name": "stdout",
          "text": [
            "1567\n"
          ]
        }
      ]
    },
    {
      "cell_type": "code",
      "metadata": {
        "colab": {
          "base_uri": "https://localhost:8080/",
          "height": 415
        },
        "id": "-9PvsM6u6hWC",
        "outputId": "7cf27228-67ba-4bc2-8e1d-701d8c050b3d"
      },
      "source": [
        "df"
      ],
      "execution_count": 49,
      "outputs": [
        {
          "output_type": "execute_result",
          "data": {
            "text/html": [
              "<div>\n",
              "<style scoped>\n",
              "    .dataframe tbody tr th:only-of-type {\n",
              "        vertical-align: middle;\n",
              "    }\n",
              "\n",
              "    .dataframe tbody tr th {\n",
              "        vertical-align: top;\n",
              "    }\n",
              "\n",
              "    .dataframe thead th {\n",
              "        text-align: right;\n",
              "    }\n",
              "</style>\n",
              "<table border=\"1\" class=\"dataframe\">\n",
              "  <thead>\n",
              "    <tr style=\"text-align: right;\">\n",
              "      <th></th>\n",
              "      <th>prod_id</th>\n",
              "      <th>qt</th>\n",
              "      <th>date</th>\n",
              "      <th>tr_id</th>\n",
              "    </tr>\n",
              "  </thead>\n",
              "  <tbody>\n",
              "    <tr>\n",
              "      <th>0</th>\n",
              "      <td>2</td>\n",
              "      <td>2</td>\n",
              "      <td>2020-11-12 00:38:10.818415</td>\n",
              "      <td>TR-1</td>\n",
              "    </tr>\n",
              "    <tr>\n",
              "      <th>1</th>\n",
              "      <td>7</td>\n",
              "      <td>1</td>\n",
              "      <td>2020-11-12 00:38:10.818415</td>\n",
              "      <td>TR-1</td>\n",
              "    </tr>\n",
              "    <tr>\n",
              "      <th>2</th>\n",
              "      <td>9</td>\n",
              "      <td>3</td>\n",
              "      <td>2020-11-12 15:38:10.818415</td>\n",
              "      <td>TR-2</td>\n",
              "    </tr>\n",
              "    <tr>\n",
              "      <th>3</th>\n",
              "      <td>1</td>\n",
              "      <td>3</td>\n",
              "      <td>2020-11-12 15:38:10.818415</td>\n",
              "      <td>TR-2</td>\n",
              "    </tr>\n",
              "    <tr>\n",
              "      <th>4</th>\n",
              "      <td>8</td>\n",
              "      <td>2</td>\n",
              "      <td>2020-11-12 17:38:10.818415</td>\n",
              "      <td>TR-3</td>\n",
              "    </tr>\n",
              "    <tr>\n",
              "      <th>...</th>\n",
              "      <td>...</td>\n",
              "      <td>...</td>\n",
              "      <td>...</td>\n",
              "      <td>...</td>\n",
              "    </tr>\n",
              "    <tr>\n",
              "      <th>1562</th>\n",
              "      <td>1</td>\n",
              "      <td>2</td>\n",
              "      <td>2021-11-11 06:38:10.818415</td>\n",
              "      <td>TR-753</td>\n",
              "    </tr>\n",
              "    <tr>\n",
              "      <th>1563</th>\n",
              "      <td>5</td>\n",
              "      <td>2</td>\n",
              "      <td>2021-11-11 06:38:10.818415</td>\n",
              "      <td>TR-753</td>\n",
              "    </tr>\n",
              "    <tr>\n",
              "      <th>1564</th>\n",
              "      <td>6</td>\n",
              "      <td>1</td>\n",
              "      <td>2021-11-11 06:38:10.818415</td>\n",
              "      <td>TR-753</td>\n",
              "    </tr>\n",
              "    <tr>\n",
              "      <th>1565</th>\n",
              "      <td>2</td>\n",
              "      <td>2</td>\n",
              "      <td>2021-11-11 08:38:10.818415</td>\n",
              "      <td>TR-754</td>\n",
              "    </tr>\n",
              "    <tr>\n",
              "      <th>1566</th>\n",
              "      <td>3</td>\n",
              "      <td>2</td>\n",
              "      <td>2021-11-11 08:38:10.818415</td>\n",
              "      <td>TR-754</td>\n",
              "    </tr>\n",
              "  </tbody>\n",
              "</table>\n",
              "<p>1567 rows × 4 columns</p>\n",
              "</div>"
            ],
            "text/plain": [
              "      prod_id  qt                       date   tr_id\n",
              "0           2   2 2020-11-12 00:38:10.818415    TR-1\n",
              "1           7   1 2020-11-12 00:38:10.818415    TR-1\n",
              "2           9   3 2020-11-12 15:38:10.818415    TR-2\n",
              "3           1   3 2020-11-12 15:38:10.818415    TR-2\n",
              "4           8   2 2020-11-12 17:38:10.818415    TR-3\n",
              "...       ...  ..                        ...     ...\n",
              "1562        1   2 2021-11-11 06:38:10.818415  TR-753\n",
              "1563        5   2 2021-11-11 06:38:10.818415  TR-753\n",
              "1564        6   1 2021-11-11 06:38:10.818415  TR-753\n",
              "1565        2   2 2021-11-11 08:38:10.818415  TR-754\n",
              "1566        3   2 2021-11-11 08:38:10.818415  TR-754\n",
              "\n",
              "[1567 rows x 4 columns]"
            ]
          },
          "metadata": {},
          "execution_count": 49
        }
      ]
    },
    {
      "cell_type": "code",
      "metadata": {
        "colab": {
          "base_uri": "https://localhost:8080/"
        },
        "id": "j41ub_PX7B2F",
        "outputId": "ba0faa12-660f-4992-c2f5-9f2fe490d4ca"
      },
      "source": [
        "def interested_in_analysis(df, prod_id, top_x = 2):\n",
        "  transactions_with_prod = df[df.prod_id == prod_id].tr_id\n",
        "  #print(transactions_with_prod.shape)\n",
        "  #transactions_with_prod.to_csv('2.csv', index = False)\n",
        "  transactions_with_prod = df[(df.prod_id != prod_id) & df.tr_id.isin(transactions_with_prod)]\n",
        "  #print(transactions_with_prod.shape)\n",
        "  #transactions_with_prod.to_csv('3.csv', index = False)\n",
        "  counts = transactions_with_prod['prod_id'].value_counts(sort=True)\n",
        "  return counts[:top_x]\n",
        "#print(df.shape)\n",
        "#df.to_csv('1.csv', index = False)\n",
        "prod_id = 1\n",
        "interested_in = interested_in_analysis(df, prod_id)\n",
        "print(interested_in)"
      ],
      "execution_count": 66,
      "outputs": [
        {
          "output_type": "stream",
          "name": "stdout",
          "text": [
            "8    41\n",
            "9    33\n",
            "Name: prod_id, dtype: int64\n"
          ]
        }
      ]
    },
    {
      "cell_type": "code",
      "metadata": {
        "id": "5Wn9FfqWGPrt"
      },
      "source": [
        "df['date'] = pd.to_datetime(df['date'])"
      ],
      "execution_count": 73,
      "outputs": []
    },
    {
      "cell_type": "code",
      "metadata": {
        "id": "niwpxJcZ9sLx"
      },
      "source": [
        "def get_last_date(year, month):\n",
        "  month_days_dict = { 1: 31, 2: 28, 3: 31, 4:30, 5:31, 6:30, 7:31, 8:31, 9:30, 10:31, 11:30, 12:31 }\n",
        "  last_date = month_days_dict[month]\n",
        "  if month == 2 and (year % 400 == 0 or year % 4 == 0 and year % 100 != 0):\n",
        "    last_date = last_date + 1\n",
        "  return last_date\n",
        "\n",
        "#def monthly_data(df):\n",
        "start_dt = df.iloc[0]['date']\n",
        "end_dt = df.iloc[len(df)-1]['date']\n",
        "\n",
        "monthly_data = []\n",
        "while start_dt < end_dt or start_dt.month == end_dt.month:\n",
        "  last_date = get_last_date(start_dt.year, start_dt.month)\n",
        "  last_dt = datetime.strptime(f'{start_dt.year}:{start_dt.month}:{last_date} 23:59:59', '%Y:%m:%d %H:%M:%S')\n",
        "  data = df[(df.date >= start_dt) & (df.date <= last_dt)][['prod_id', 'qt']]\n",
        "  grp = data.groupby('prod_id', dropna=False)\n",
        "  y = grp.sum()\n",
        "  y['prod_id'] = y.index\n",
        "  print(y)\n",
        "#  y.to_csv('5.csv')\n",
        "  monthly_data.append([f'{start_dt.strftime(\"%B\")}-{start_dt.year}', y.to_numpy()])\n",
        "  start_dt = last_dt + timedelta(days=1)\n",
        "  start_dt = datetime.strptime(f'{start_dt.year}:{start_dt.month}:{start_dt.day} 00:00:00', '%Y:%m:%d %H:%M:%S')\n",
        "  "
      ],
      "execution_count": null,
      "outputs": []
    },
    {
      "cell_type": "code",
      "metadata": {
        "id": "zkDFqmjYMg_7"
      },
      "source": [
        "monthly_data"
      ],
      "execution_count": null,
      "outputs": []
    },
    {
      "cell_type": "code",
      "metadata": {
        "id": "t6bRvvErMZ-U"
      },
      "source": [
        ""
      ],
      "execution_count": null,
      "outputs": []
    }
  ]
}